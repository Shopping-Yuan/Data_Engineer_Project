{
  "nbformat": 4,
  "nbformat_minor": 0,
  "metadata": {
    "colab": {
      "provenance": [],
      "authorship_tag": "ABX9TyMHpyLjTT2S/8iSVMh1dOSa",
      "include_colab_link": true
    },
    "kernelspec": {
      "name": "python3",
      "display_name": "Python 3"
    },
    "language_info": {
      "name": "python"
    }
  },
  "cells": [
    {
      "cell_type": "markdown",
      "metadata": {
        "id": "view-in-github",
        "colab_type": "text"
      },
      "source": [
        "<a href=\"https://colab.research.google.com/github/Shopping-Yuan/Data_Engineer_Project/blob/main/spotify_history_rank.ipynb\" target=\"_parent\"><img src=\"https://colab.research.google.com/assets/colab-badge.svg\" alt=\"Open In Colab\"/></a>"
      ]
    },
    {
      "cell_type": "code",
      "execution_count": null,
      "metadata": {
        "id": "3Si-drQ5a1c1"
      },
      "outputs": [],
      "source": [
        "!pip install selenium > /dev/null"
      ]
    },
    {
      "cell_type": "code",
      "source": [
        "!apt-get update > /dev/null\n",
        "!apt-get install -y wget unzip > /dev/null"
      ],
      "metadata": {
        "colab": {
          "base_uri": "https://localhost:8080/"
        },
        "id": "opcO2wtdgxf7",
        "outputId": "3dc487f5-b968-4db1-cf7d-33e5f2aab2a5"
      },
      "execution_count": null,
      "outputs": [
        {
          "output_type": "stream",
          "name": "stdout",
          "text": [
            "W: Skipping acquire of configured file 'main/source/Sources' as repository 'https://r2u.stat.illinois.edu/ubuntu jammy InRelease' does not seem to provide it (sources.list entry misspelt?)\n"
          ]
        }
      ]
    },
    {
      "cell_type": "code",
      "source": [
        "try :\n",
        "  import google.colab\n",
        "  CHROME_FILE= \"google-chrome-stable_current_amd64.deb\"\n",
        "  !wget https://dl.google.com/linux/direct/$CHROME_FILE > /dev/null\n",
        "  # install google-chrome in Debian system\n",
        "  !dpkg -i $CHROME_FILE > /dev/null\n",
        "  IN_COLAB = True\n",
        "except :\n",
        "  IN_COLAB = False"
      ],
      "metadata": {
        "colab": {
          "base_uri": "https://localhost:8080/"
        },
        "id": "o2NmQ2KAht_7",
        "outputId": "5952af91-2f46-41f9-e783-3a3fc14c0bb4"
      },
      "execution_count": null,
      "outputs": [
        {
          "output_type": "stream",
          "name": "stdout",
          "text": [
            "--2024-08-15 10:08:42--  https://dl.google.com/linux/direct/google-chrome-stable_current_amd64.deb\n",
            "Resolving dl.google.com (dl.google.com)... 74.125.196.91, 74.125.196.93, 74.125.196.190, ...\n",
            "Connecting to dl.google.com (dl.google.com)|74.125.196.91|:443... connected.\n",
            "HTTP request sent, awaiting response... 200 OK\n",
            "Length: 109455748 (104M) [application/x-debian-package]\n",
            "Saving to: ‘google-chrome-stable_current_amd64.deb’\n",
            "\n",
            "google-chrome-stabl 100%[===================>] 104.38M   281MB/s    in 0.4s    \n",
            "\n",
            "2024-08-15 10:08:42 (281 MB/s) - ‘google-chrome-stable_current_amd64.deb’ saved [109455748/109455748]\n",
            "\n",
            "dpkg: dependency problems prevent configuration of google-chrome-stable:\n",
            " google-chrome-stable depends on libu2f-udev; however:\n",
            "  Package libu2f-udev is not installed.\n",
            " google-chrome-stable depends on libvulkan1; however:\n",
            "  Package libvulkan1 is not installed.\n",
            "\n",
            "dpkg: error processing package google-chrome-stable (--install):\n",
            " dependency problems - leaving unconfigured\n",
            "Errors were encountered while processing:\n",
            " google-chrome-stable\n"
          ]
        }
      ]
    },
    {
      "cell_type": "code",
      "source": [
        "!apt-get -f install > /dev/null\n",
        "!google-chrome --version > /dev/null"
      ],
      "metadata": {
        "id": "0h634VLKbfaj",
        "colab": {
          "base_uri": "https://localhost:8080/"
        },
        "outputId": "de46735f-3ca0-4942-8377-39eb1c73cf01"
      },
      "execution_count": null,
      "outputs": [
        {
          "output_type": "stream",
          "name": "stdout",
          "text": [
            "E: Sub-process /usr/sbin/dpkg-preconfigure --apt || true received signal 2.\n",
            "E: Failure running script /usr/sbin/dpkg-preconfigure --apt || true\n",
            "debconf: apt-extracttemplates failed: No such file or directory\n",
            "/bin/bash: line 1: google-chrome: command not found\n"
          ]
        }
      ]
    },
    {
      "cell_type": "code",
      "source": [
        "import subprocess\n",
        "result = subprocess.run(['google-chrome', '--version'], capture_output=True, text=True)\n",
        "chrome_version = result.stdout.strip().split()[-1]\n",
        "print(f\"Chrome Version: {chrome_version}\")"
      ],
      "metadata": {
        "colab": {
          "base_uri": "https://localhost:8080/",
          "height": 373
        },
        "id": "s6TPrn5DleM0",
        "outputId": "8c6e4367-89fa-4c95-cd71-438783d9e3fe"
      },
      "execution_count": null,
      "outputs": [
        {
          "output_type": "error",
          "ename": "FileNotFoundError",
          "evalue": "[Errno 2] No such file or directory: 'google-chrome'",
          "traceback": [
            "\u001b[0;31m---------------------------------------------------------------------------\u001b[0m",
            "\u001b[0;31mFileNotFoundError\u001b[0m                         Traceback (most recent call last)",
            "\u001b[0;32m<ipython-input-5-fec6ed06f9a0>\u001b[0m in \u001b[0;36m<cell line: 2>\u001b[0;34m()\u001b[0m\n\u001b[1;32m      1\u001b[0m \u001b[0;32mimport\u001b[0m \u001b[0msubprocess\u001b[0m\u001b[0;34m\u001b[0m\u001b[0;34m\u001b[0m\u001b[0m\n\u001b[0;32m----> 2\u001b[0;31m \u001b[0mresult\u001b[0m \u001b[0;34m=\u001b[0m \u001b[0msubprocess\u001b[0m\u001b[0;34m.\u001b[0m\u001b[0mrun\u001b[0m\u001b[0;34m(\u001b[0m\u001b[0;34m[\u001b[0m\u001b[0;34m'google-chrome'\u001b[0m\u001b[0;34m,\u001b[0m \u001b[0;34m'--version'\u001b[0m\u001b[0;34m]\u001b[0m\u001b[0;34m,\u001b[0m \u001b[0mcapture_output\u001b[0m\u001b[0;34m=\u001b[0m\u001b[0;32mTrue\u001b[0m\u001b[0;34m,\u001b[0m \u001b[0mtext\u001b[0m\u001b[0;34m=\u001b[0m\u001b[0;32mTrue\u001b[0m\u001b[0;34m)\u001b[0m\u001b[0;34m\u001b[0m\u001b[0;34m\u001b[0m\u001b[0m\n\u001b[0m\u001b[1;32m      3\u001b[0m \u001b[0mchrome_version\u001b[0m \u001b[0;34m=\u001b[0m \u001b[0mresult\u001b[0m\u001b[0;34m.\u001b[0m\u001b[0mstdout\u001b[0m\u001b[0;34m.\u001b[0m\u001b[0mstrip\u001b[0m\u001b[0;34m(\u001b[0m\u001b[0;34m)\u001b[0m\u001b[0;34m.\u001b[0m\u001b[0msplit\u001b[0m\u001b[0;34m(\u001b[0m\u001b[0;34m)\u001b[0m\u001b[0;34m[\u001b[0m\u001b[0;34m-\u001b[0m\u001b[0;36m1\u001b[0m\u001b[0;34m]\u001b[0m\u001b[0;34m\u001b[0m\u001b[0;34m\u001b[0m\u001b[0m\n\u001b[1;32m      4\u001b[0m \u001b[0mprint\u001b[0m\u001b[0;34m(\u001b[0m\u001b[0;34mf\"Chrome Version: {chrome_version}\"\u001b[0m\u001b[0;34m)\u001b[0m\u001b[0;34m\u001b[0m\u001b[0;34m\u001b[0m\u001b[0m\n",
            "\u001b[0;32m/usr/lib/python3.10/subprocess.py\u001b[0m in \u001b[0;36mrun\u001b[0;34m(input, capture_output, timeout, check, *popenargs, **kwargs)\u001b[0m\n\u001b[1;32m    501\u001b[0m         \u001b[0mkwargs\u001b[0m\u001b[0;34m[\u001b[0m\u001b[0;34m'stderr'\u001b[0m\u001b[0;34m]\u001b[0m \u001b[0;34m=\u001b[0m \u001b[0mPIPE\u001b[0m\u001b[0;34m\u001b[0m\u001b[0;34m\u001b[0m\u001b[0m\n\u001b[1;32m    502\u001b[0m \u001b[0;34m\u001b[0m\u001b[0m\n\u001b[0;32m--> 503\u001b[0;31m     \u001b[0;32mwith\u001b[0m \u001b[0mPopen\u001b[0m\u001b[0;34m(\u001b[0m\u001b[0;34m*\u001b[0m\u001b[0mpopenargs\u001b[0m\u001b[0;34m,\u001b[0m \u001b[0;34m**\u001b[0m\u001b[0mkwargs\u001b[0m\u001b[0;34m)\u001b[0m \u001b[0;32mas\u001b[0m \u001b[0mprocess\u001b[0m\u001b[0;34m:\u001b[0m\u001b[0;34m\u001b[0m\u001b[0;34m\u001b[0m\u001b[0m\n\u001b[0m\u001b[1;32m    504\u001b[0m         \u001b[0;32mtry\u001b[0m\u001b[0;34m:\u001b[0m\u001b[0;34m\u001b[0m\u001b[0;34m\u001b[0m\u001b[0m\n\u001b[1;32m    505\u001b[0m             \u001b[0mstdout\u001b[0m\u001b[0;34m,\u001b[0m \u001b[0mstderr\u001b[0m \u001b[0;34m=\u001b[0m \u001b[0mprocess\u001b[0m\u001b[0;34m.\u001b[0m\u001b[0mcommunicate\u001b[0m\u001b[0;34m(\u001b[0m\u001b[0minput\u001b[0m\u001b[0;34m,\u001b[0m \u001b[0mtimeout\u001b[0m\u001b[0;34m=\u001b[0m\u001b[0mtimeout\u001b[0m\u001b[0;34m)\u001b[0m\u001b[0;34m\u001b[0m\u001b[0;34m\u001b[0m\u001b[0m\n",
            "\u001b[0;32m/usr/lib/python3.10/subprocess.py\u001b[0m in \u001b[0;36m__init__\u001b[0;34m(self, args, bufsize, executable, stdin, stdout, stderr, preexec_fn, close_fds, shell, cwd, env, universal_newlines, startupinfo, creationflags, restore_signals, start_new_session, pass_fds, user, group, extra_groups, encoding, errors, text, umask, pipesize)\u001b[0m\n\u001b[1;32m    969\u001b[0m                             encoding=encoding, errors=errors)\n\u001b[1;32m    970\u001b[0m \u001b[0;34m\u001b[0m\u001b[0m\n\u001b[0;32m--> 971\u001b[0;31m             self._execute_child(args, executable, preexec_fn, close_fds,\n\u001b[0m\u001b[1;32m    972\u001b[0m                                 \u001b[0mpass_fds\u001b[0m\u001b[0;34m,\u001b[0m \u001b[0mcwd\u001b[0m\u001b[0;34m,\u001b[0m \u001b[0menv\u001b[0m\u001b[0;34m,\u001b[0m\u001b[0;34m\u001b[0m\u001b[0;34m\u001b[0m\u001b[0m\n\u001b[1;32m    973\u001b[0m                                 \u001b[0mstartupinfo\u001b[0m\u001b[0;34m,\u001b[0m \u001b[0mcreationflags\u001b[0m\u001b[0;34m,\u001b[0m \u001b[0mshell\u001b[0m\u001b[0;34m,\u001b[0m\u001b[0;34m\u001b[0m\u001b[0;34m\u001b[0m\u001b[0m\n",
            "\u001b[0;32m/usr/lib/python3.10/subprocess.py\u001b[0m in \u001b[0;36m_execute_child\u001b[0;34m(self, args, executable, preexec_fn, close_fds, pass_fds, cwd, env, startupinfo, creationflags, shell, p2cread, p2cwrite, c2pread, c2pwrite, errread, errwrite, restore_signals, gid, gids, uid, umask, start_new_session)\u001b[0m\n\u001b[1;32m   1861\u001b[0m                     \u001b[0;32mif\u001b[0m \u001b[0merrno_num\u001b[0m \u001b[0;34m!=\u001b[0m \u001b[0;36m0\u001b[0m\u001b[0;34m:\u001b[0m\u001b[0;34m\u001b[0m\u001b[0;34m\u001b[0m\u001b[0m\n\u001b[1;32m   1862\u001b[0m                         \u001b[0merr_msg\u001b[0m \u001b[0;34m=\u001b[0m \u001b[0mos\u001b[0m\u001b[0;34m.\u001b[0m\u001b[0mstrerror\u001b[0m\u001b[0;34m(\u001b[0m\u001b[0merrno_num\u001b[0m\u001b[0;34m)\u001b[0m\u001b[0;34m\u001b[0m\u001b[0;34m\u001b[0m\u001b[0m\n\u001b[0;32m-> 1863\u001b[0;31m                     \u001b[0;32mraise\u001b[0m \u001b[0mchild_exception_type\u001b[0m\u001b[0;34m(\u001b[0m\u001b[0merrno_num\u001b[0m\u001b[0;34m,\u001b[0m \u001b[0merr_msg\u001b[0m\u001b[0;34m,\u001b[0m \u001b[0merr_filename\u001b[0m\u001b[0;34m)\u001b[0m\u001b[0;34m\u001b[0m\u001b[0;34m\u001b[0m\u001b[0m\n\u001b[0m\u001b[1;32m   1864\u001b[0m                 \u001b[0;32mraise\u001b[0m \u001b[0mchild_exception_type\u001b[0m\u001b[0;34m(\u001b[0m\u001b[0merr_msg\u001b[0m\u001b[0;34m)\u001b[0m\u001b[0;34m\u001b[0m\u001b[0;34m\u001b[0m\u001b[0m\n\u001b[1;32m   1865\u001b[0m \u001b[0;34m\u001b[0m\u001b[0m\n",
            "\u001b[0;31mFileNotFoundError\u001b[0m: [Errno 2] No such file or directory: 'google-chrome'"
          ]
        }
      ]
    },
    {
      "cell_type": "code",
      "source": [
        "# 測試 Chrome 和 ChromeDriver\n",
        "from selenium import webdriver\n",
        "from selenium.webdriver.chrome.service import Service\n",
        "from selenium.webdriver.chrome.options import Options\n",
        "\n",
        "chrome_options = Options()\n",
        "user_agent = \"Mozilla/5.0 (Windows NT 10.0; Win64; x64) AppleWebKit/537.36 (KHTML, like Gecko) Chrome/127.0.6533.88 Safari/537.36\"\n",
        "Referer = \"https://charts.spotify.com/\"\n",
        "A_L = \"zh-TW,zh;q=0.9 zh-TW,zh;q=0.9\"\n",
        "Accept = \"*/*\"\n",
        "A_E = \"gzip, deflate, br, zstd\"\n",
        "SFM = \"cors\"\n",
        "SFS = \"cross-site\"\n",
        "\n",
        "SChUA = '\"Not)A;Brand\";v=\"99\", \"Google Chrome\";v=\"127\", \"Chromium\";v=\"127\"'\n",
        "SChUAM = '?0'\n",
        "\n",
        "chrome_options.add_argument(f\"Referer={user_agent}\")\n",
        "chrome_options.add_argument(f\"Accept-Language={A_L}\")\n",
        "chrome_options.add_argument(f\"Accept={Accept}\")\n",
        "chrome_options.add_argument(f\"Accept-Encoding={A_E}\")\n",
        "chrome_options.add_argument(f\"Sec-Fetch-Mode={SFM}\")\n",
        "chrome_options.add_argument(f\"Sec-Fetch-Site={SFS}\")\n",
        "chrome_options.add_argument(f\"Sec-Ch-UA={SChUA}\")\n",
        "chrome_options.add_argument(f\"Sec-Ch-UA-Mobile={SChUAM}\")\n",
        "profile_path = './'\n",
        "chrome_options.add_argument(f'user-data-dir={profile_path}')\n",
        "\n",
        "chrome_options.add_argument(\"--headless\")\n",
        "chrome_options.add_argument(\"--no-sandbox\")\n",
        "chrome_options.add_argument(\"--disable-dev-shm-usage\")"
      ],
      "metadata": {
        "id": "yNqVycI8Phri"
      },
      "execution_count": null,
      "outputs": []
    },
    {
      "cell_type": "code",
      "source": [
        "!pip install bs4"
      ],
      "metadata": {
        "id": "f0QSLDmuEAqT"
      },
      "execution_count": null,
      "outputs": []
    },
    {
      "cell_type": "code",
      "source": [
        "import time\n",
        "from selenium.webdriver.common.by import By\n",
        "from selenium.webdriver.common.keys import Keys\n",
        "from selenium.webdriver.support.ui import WebDriverWait\n",
        "from selenium.webdriver.support import expected_conditions as EC\n",
        "from bs4 import BeautifulSoup\n",
        "# 初始化 WebDriver\n",
        "driver = webdriver.Chrome(options=chrome_options)\n",
        "# 打開登錄頁面\n",
        "driver.get(\"https://charts.spotify.com/home\")  # 替換為實際登錄頁面 URL\n",
        "driver.get_screenshot_as_file(\"first.png\")\n",
        "time.sleep(1)\n",
        "login_field = driver.find_element(By.XPATH, \"//*[@class='Button-sc-qlcn5g-0 icaoRV encore-text-body-medium-bold']\")\n",
        "time.sleep(1)\n",
        "login_field.click()\n",
        "driver.get_screenshot_as_file(\"login_page.png\")\n",
        "wait = WebDriverWait(driver, 10)\n",
        "# driver.get(\"https://accounts.spotify.com/zh-TW/login?continue=https%3A%2F%2Fcharts.spotify.com/login\")\n",
        "u_field = wait.until(EC.presence_of_element_located((By.ID, \"login-username\")))\n",
        "p_field = wait.until(EC.presence_of_element_located((By.ID, \"login-password\")))\n",
        "time.sleep(1)\n",
        "driver.find_element(By.XPATH, \"//*[@class='Button-sc-1dqy6lx-0 dOClrT']\").click()\n",
        "\n",
        "username = input(\"請手動輸入名稱，完成後按 Enter 鍵繼續...\")\n",
        "u_field.send_keys(username)\n",
        "password = input(\"請手動輸入密碼，完成後按 Enter 鍵繼續...\")\n",
        "p_field.send_keys(password)\n",
        "# 提交表單\n",
        "try:\n",
        "    # login_button = WebDriverWait(driver, 10).until( EC.visibility_of_element_located((By.CSS_SELECTOR, \"button[data-testid='login-button']\")) )\n",
        "    login_button = driver.find_element(By.ID, \"login-button\")\n",
        "    time.sleep(1)\n",
        "    login_button.click()\n",
        "except Exception as e:\n",
        "    print(\"登入按鈕未能找到或點擊失敗:\", e)\n",
        "finally:\n",
        "  # 確認登錄成功\n",
        "  driver.get_screenshot_as_file(\"final.png\")\n",
        "  time.sleep(1)\n",
        "  html = driver.page_source\n",
        "  spotify_bs4 = BeautifulSoup(html,parser = \"html.parser\")\n",
        "\n",
        "  try:\n",
        "    human_check_botton = \\\n",
        "    driver.find_element(By.XPATH, \"//*[@class='Button-sc-1dqy6lx-0 iljZso CloseButton-sc-abn00m-0 hripiO']\")\n",
        "    time.sleep(1)\n",
        "    human_check_botton.click()\n",
        "  except :\n",
        "    pass\n",
        "  time.sleep(5)\n",
        "  driver.get_screenshot_as_file(\"final2.png\")\n",
        "  # u_field = driver.find_element(By.ID, \"login-username\")  # 替換為實際用戶名字段名稱\n",
        "  # p_field = driver.find_element(By.ID, \"login-password\")  # 替換為實際密碼字段名稱\n",
        "  # p_field.send_keys(password)\n",
        "  # login_button = driver.find_element(By.ID, \"login-button\")\n",
        "  # login_button.click()\n",
        "  # time.sleep(1)\n",
        "  # driver.get_screenshot_as_file(\"final3.png\")"
      ],
      "metadata": {
        "id": "iH6MwNsbUmAb"
      },
      "execution_count": null,
      "outputs": []
    },
    {
      "cell_type": "code",
      "source": [
        "driver.quit()"
      ],
      "metadata": {
        "id": "J5dSeXhzB-_1"
      },
      "execution_count": null,
      "outputs": []
    },
    {
      "cell_type": "code",
      "source": [
        "import requests\n",
        "from bs4 import BeautifulSoup"
      ],
      "metadata": {
        "id": "PzvDCbmDnZ1Z"
      },
      "execution_count": null,
      "outputs": []
    },
    {
      "cell_type": "code",
      "source": [
        "spotify_bs4.prettify()"
      ],
      "metadata": {
        "id": "AE5_JxN8m-K6"
      },
      "execution_count": null,
      "outputs": []
    },
    {
      "cell_type": "code",
      "source": [
        "spotify_bs4.find_all(\"button\")"
      ],
      "metadata": {
        "id": "r75nkY9bnHm0"
      },
      "execution_count": null,
      "outputs": []
    },
    {
      "cell_type": "code",
      "source": [
        "help(By)"
      ],
      "metadata": {
        "id": "dYOWySTPWj_K"
      },
      "execution_count": null,
      "outputs": []
    }
  ]
}